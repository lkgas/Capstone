{
 "cells": [
  {
   "cell_type": "code",
   "execution_count": 3,
   "metadata": {
    "id": "wltLJ5UWo8F1"
   },
   "outputs": [],
   "source": [
    "import keras\n",
    "from keras import layers\n",
    "import numpy as np\n",
    "import pandas as pd\n",
    "from sklearn.preprocessing import MinMaxScaler\n",
    "import copy\n",
    "from keras.models import Sequential, Model\n",
    "from keras.layers.convolutional import Conv1D\n",
    "from tqdm import tqdm\n",
    "import tensorflow as tf"
   ]
  },
  {
   "cell_type": "code",
   "execution_count": 4,
   "metadata": {},
   "outputs": [],
   "source": [
    "import json\n",
    "from keras.models import load_model\n",
    "from sklearn.metrics import mean_squared_error\n",
    "import matplotlib.pyplot as plt"
   ]
  },
  {
   "cell_type": "code",
   "execution_count": 2,
   "metadata": {
    "colab": {
     "base_uri": "https://localhost:8080/"
    },
    "id": "_O8jO_UFprcz",
    "outputId": "8fe18794-0158-4182-c8ba-bdea6a3e3dc3"
   },
   "outputs": [
    {
     "name": "stdout",
     "output_type": "stream",
     "text": [
      "Model: \"model\"\n",
      "_________________________________________________________________\n",
      "Layer (type)                 Output Shape              Param #   \n",
      "=================================================================\n",
      "input_1 (InputLayer)         [(None, 30, 24)]          0         \n",
      "_________________________________________________________________\n",
      "lstm (LSTM)                  (None, 30, 256)           287744    \n",
      "_________________________________________________________________\n",
      "dropout (Dropout)            (None, 30, 256)           0         \n",
      "_________________________________________________________________\n",
      "lstm_1 (LSTM)                (None, 30, 128)           197120    \n",
      "_________________________________________________________________\n",
      "dropout_1 (Dropout)          (None, 30, 128)           0         \n",
      "_________________________________________________________________\n",
      "lstm_2 (LSTM)                (None, 30, 64)            49408     \n",
      "_________________________________________________________________\n",
      "dropout_2 (Dropout)          (None, 30, 64)            0         \n",
      "_________________________________________________________________\n",
      "lstm_3 (LSTM)                (None, 30, 64)            33024     \n",
      "_________________________________________________________________\n",
      "dropout_3 (Dropout)          (None, 30, 64)            0         \n",
      "_________________________________________________________________\n",
      "lstm_4 (LSTM)                (None, 32)                12416     \n",
      "_________________________________________________________________\n",
      "dropout_4 (Dropout)          (None, 32)                0         \n",
      "_________________________________________________________________\n",
      "dense (Dense)                (None, 1)                 33        \n",
      "_________________________________________________________________\n",
      "leaky_re_lu (LeakyReLU)      (None, 1)                 0         \n",
      "=================================================================\n",
      "Total params: 579,745\n",
      "Trainable params: 579,745\n",
      "Non-trainable params: 0\n",
      "_________________________________________________________________\n",
      "Model: \"model_1\"\n",
      "_________________________________________________________________\n",
      "Layer (type)                 Output Shape              Param #   \n",
      "=================================================================\n",
      "input_2 (InputLayer)         [(None, 31, 1)]           0         \n",
      "_________________________________________________________________\n",
      "conv1d (Conv1D)              (None, 25, 100)           800       \n",
      "_________________________________________________________________\n",
      "batch_normalization (BatchNo (None, 25, 100)           400       \n",
      "_________________________________________________________________\n",
      "conv1d_1 (Conv1D)            (None, 21, 100)           50100     \n",
      "_________________________________________________________________\n",
      "batch_normalization_1 (Batch (None, 21, 100)           400       \n",
      "_________________________________________________________________\n",
      "dropout_5 (Dropout)          (None, 21, 100)           0         \n",
      "_________________________________________________________________\n",
      "max_pooling1d (MaxPooling1D) (None, 7, 100)            0         \n",
      "_________________________________________________________________\n",
      "conv1d_2 (Conv1D)            (None, 5, 160)            48160     \n",
      "_________________________________________________________________\n",
      "batch_normalization_2 (Batch (None, 5, 160)            640       \n",
      "_________________________________________________________________\n",
      "dropout_6 (Dropout)          (None, 5, 160)            0         \n",
      "_________________________________________________________________\n",
      "conv1d_3 (Conv1D)            (None, 3, 160)            76960     \n",
      "_________________________________________________________________\n",
      "batch_normalization_3 (Batch (None, 3, 160)            640       \n",
      "_________________________________________________________________\n",
      "dropout_7 (Dropout)          (None, 3, 160)            0         \n",
      "_________________________________________________________________\n",
      "conv1d_4 (Conv1D)            (None, 1, 160)            76960     \n",
      "_________________________________________________________________\n",
      "batch_normalization_4 (Batch (None, 1, 160)            640       \n",
      "_________________________________________________________________\n",
      "dropout_8 (Dropout)          (None, 1, 160)            0         \n",
      "_________________________________________________________________\n",
      "dense_1 (Dense)              (None, 1, 100)            16100     \n",
      "_________________________________________________________________\n",
      "dense_2 (Dense)              (None, 1, 1)              101       \n",
      "=================================================================\n",
      "Total params: 271,901\n",
      "Trainable params: 270,541\n",
      "Non-trainable params: 1,360\n",
      "_________________________________________________________________\n"
     ]
    }
   ],
   "source": [
    "step_size = 30  #多少天预测一天\n",
    "feature_num = 24  #多少个features，注意不同indicators时的修改！！！！！！\n",
    "\n",
    "\n",
    "generator_input = keras.Input(shape=(step_size,feature_num))\n",
    "x = layers.LSTM(256,return_sequences=True)(generator_input)\n",
    "#x = layers.Dropout(0.2)(x)\n",
    "#x = layers.LSTM(25)(x)\n",
    "x = layers.Dropout(0.5)(x)\n",
    "x = layers.LSTM(units = 128,return_sequences=True)(x)\n",
    "x = layers.Dropout(0.5)(x)\n",
    "x = layers.LSTM(units = 64, return_sequences = True)(x)\n",
    "x = layers.Dropout(0.5)(x)\n",
    "x = layers.LSTM(units = 64, return_sequences = True)(x)\n",
    "x = layers.Dropout(0.5)(x)\n",
    "x = layers.LSTM(units = 32)(x)\n",
    "x = layers.Dropout(0.5)(x)\n",
    "x = layers.Dense(1)(x)\n",
    "x = layers.LeakyReLU()(x)\n",
    "generator = keras.models.Model(generator_input, x)\n",
    "generator.summary()\n",
    "\n",
    "discriminator_input = layers.Input(shape=(step_size+1,1))\n",
    "y = layers.Conv1D(filters=100, kernel_size=7, activation='relu')(discriminator_input)\n",
    "y = layers.BatchNormalization()(y)\n",
    "y = layers.Conv1D(filters=100, kernel_size=5, activation='relu')(y)\n",
    "y = layers.BatchNormalization()(y)\n",
    "y = layers.Dropout(0.5)(y)\n",
    "y = layers.MaxPooling1D(pool_size = 3)(y)\n",
    "#y = layers.Flatten()(y)\n",
    "y = layers.Conv1D(filters=160, kernel_size=3, activation='relu')(y)\n",
    "y = layers.BatchNormalization()(y)\n",
    "y = layers.Dropout(0.5)(y)\n",
    "y = layers.Conv1D(filters=160, kernel_size=3, activation='relu')(y)\n",
    "y = layers.BatchNormalization()(y)\n",
    "y = layers.Dropout(0.5)(y)\n",
    "y = layers.Conv1D(filters=160, kernel_size=3, activation='relu')(y)\n",
    "y = layers.BatchNormalization()(y)\n",
    "y = layers.Dropout(0.5)(y)\n",
    "y = layers.Dense(100, activation='relu')(y)\n",
    "y = layers.Dense(1,activation='sigmoid')(y)\n",
    "discriminator = keras.models.Model(discriminator_input, y)\n",
    "discriminator.summary()\n",
    "\n",
    "# 为了训练稳定，在优化器中使用学习率衰减和梯度限幅（按值）。\n",
    "#discriminator_optimizer = keras.optimizers.RMSprop(lr=8e-4, clipvalue=1.0, decay=1e-8)\n",
    "discriminator_optimizer = keras.optimizers.Adam(0.0001, 0.4)\n",
    "discriminator.compile(optimizer=discriminator_optimizer, loss='binary_crossentropy')\n",
    "\n",
    "# 将鉴别器（discrimitor）权重设置为不可训练（仅适用于`gan`模型）\n",
    "discriminator.trainable = False\n",
    "gan_input = keras.Input(shape=(step_size, feature_num))\n",
    "gan_output = discriminator(keras.layers.Concatenate(axis=1)([gan_input[:,:,0],generator(gan_input)]))\n",
    "gan = keras.models.Model(gan_input, gan_output)\n",
    "#gan_optimizer = keras.optimizers.RMSprop(lr=4e-4, clipvalue=1.0, decay=1e-8)\n",
    "gan_optimizer = keras.optimizers.Adam(0.0001, 0.4)\n",
    "gan.compile(optimizer=gan_optimizer, loss='mean_squared_error')"
   ]
  },
  {
   "cell_type": "code",
   "execution_count": 6,
   "metadata": {
    "id": "ZDJueY2AphZQ"
   },
   "outputs": [],
   "source": [
    "#step_size = 30  #多少天预测一天\n",
    "#feature_num = 24  #多少个features，注意不同indicators时的修改！！！！！！\n",
    "\n",
    "dataset_train = pd.read_csv('AUD_CAD_Processed.csv')\n",
    "dataset_train.dropna(axis=0, how='any', inplace=True)\n",
    "dataset_train.drop(['Unnamed: 0'], axis=1, inplace=True)\n",
    "train_size = 3370 #70% of data\n",
    "from sklearn.preprocessing import MinMaxScaler\n",
    "sc = MinMaxScaler(feature_range = (0, 1))\n",
    "values = dataset_train.values #67*6\n",
    "# ensure all data is float\n",
    "values = values.astype('float32')\n",
    "training_set_scaled = sc.fit_transform(values[:3371,:])\n",
    "testing_set_scaled = sc.transform(values[3371:,:])\n",
    "X_train = []\n",
    "y_train = []\n",
    "for i in range(step_size, train_size+1):\n",
    "    X_train.append(training_set_scaled[i-step_size:i])\n",
    "    y_train.append(training_set_scaled[i])\n",
    "X_train, y_train = np.array(X_train), np.array(y_train)\n",
    "X_train = np.reshape(X_train, (X_train.shape[0], X_train.shape[1], feature_num))\n",
    "train_Y = y_train[:,0]\n",
    "\n",
    "X_test = []\n",
    "y_test = []\n",
    "for i in range(step_size, len(testing_set_scaled)):\n",
    "    X_test.append(testing_set_scaled[i-step_size:i])\n",
    "    y_test.append(testing_set_scaled[i])\n",
    "X_test, y_test = np.array(X_test), np.array(y_test)\n",
    "\n",
    "X_test = np.reshape(X_test, (X_test.shape[0], X_test.shape[1], feature_num))\n",
    "test_Y = y_test[:,0]\n"
   ]
  },
  {
   "cell_type": "code",
   "execution_count": 94,
   "metadata": {},
   "outputs": [],
   "source": [
    "least_RMSE = mse_before_scale**(1/2)\n",
    "least_MAPE = MAPE_O2"
   ]
  },
  {
   "cell_type": "code",
   "execution_count": 97,
   "metadata": {},
   "outputs": [
    {
     "data": {
      "text/plain": [
       "0.004475207"
      ]
     },
     "execution_count": 97,
     "metadata": {},
     "output_type": "execute_result"
    }
   ],
   "source": [
    "least_MAPE"
   ]
  },
  {
   "cell_type": "code",
   "execution_count": 144,
   "metadata": {},
   "outputs": [],
   "source": [
    "scores = {}\n",
    "scores['Epoch'] = []\n",
    "scores['Train_MAPE'] = []\n",
    "scores['Train_MSE'] = []\n",
    "scores['Train_RMSE'] = []\n",
    "scores['Test_MAPE'] = []\n",
    "scores['Test_MSE'] = []\n",
    "scores['Test_RMSE'] = []"
   ]
  },
  {
   "cell_type": "code",
   "execution_count": 148,
   "metadata": {
    "colab": {
     "base_uri": "https://localhost:8080/",
     "height": 270
    },
    "id": "D2pkHmFsp9Z7",
    "outputId": "f0d930f5-96e9-41cb-9e73-884144a90075",
    "scrolled": true
   },
   "outputs": [
    {
     "name": "stderr",
     "output_type": "stream",
     "text": [
      "\r",
      "  0%|                                                                                         | 0/3341 [00:00<?, ?it/s]"
     ]
    },
    {
     "name": "stdout",
     "output_type": "stream",
     "text": [
      "171\n"
     ]
    },
    {
     "name": "stderr",
     "output_type": "stream",
     "text": [
      "100%|██████████████████████████████████████████████████████████████████████████████| 3341/3341 [52:52<00:00,  1.05it/s]\n",
      "  0%|                                                                                         | 0/3341 [00:00<?, ?it/s]"
     ]
    },
    {
     "name": "stdout",
     "output_type": "stream",
     "text": [
      "(1414, 1)\n",
      "Epoch: 171 | Train MAPE: 0.0049| Train RMSE: 0.006551| Test MAPE: 0.0096 | Test RMSE: 0.010711\n",
      "172\n"
     ]
    },
    {
     "name": "stderr",
     "output_type": "stream",
     "text": [
      " 13%|██████████▏                                                                    | 433/3341 [06:51<46:02,  1.05it/s]\n"
     ]
    },
    {
     "ename": "ResourceExhaustedError",
     "evalue": "   OOM when allocating tensor with shape[256,1024] and type float on /job:localhost/replica:0/task:0/device:CPU:0 by allocator cpu\n\t [[{{node gradients/while_grad/while_grad/body/_1/gradients/while_grad/gradients/while/MatMul_1_grad/MatMul_1}}]]\nHint: If you want to see a list of allocated tensors when OOM happens, add report_tensor_allocations_upon_oom to RunOptions for current allocation info.\n\n\t [[Adam/gradients/PartitionedCall_4]]\nHint: If you want to see a list of allocated tensors when OOM happens, add report_tensor_allocations_upon_oom to RunOptions for current allocation info.\n [Op:__inference_train_function_18869]\n\nFunction call stack:\ntrain_function -> train_function -> train_function\n",
     "output_type": "error",
     "traceback": [
      "\u001b[1;31m---------------------------------------------------------------------------\u001b[0m",
      "\u001b[1;31mResourceExhaustedError\u001b[0m                    Traceback (most recent call last)",
      "\u001b[1;32m<ipython-input-148-aa600aa912a4>\u001b[0m in \u001b[0;36m<module>\u001b[1;34m\u001b[0m\n\u001b[0;32m     26\u001b[0m         \u001b[1;32mfor\u001b[0m \u001b[0mi\u001b[0m \u001b[1;32min\u001b[0m \u001b[0mrange\u001b[0m\u001b[1;33m(\u001b[0m\u001b[1;36m5\u001b[0m\u001b[1;33m)\u001b[0m\u001b[1;33m:\u001b[0m\u001b[1;33m\u001b[0m\u001b[1;33m\u001b[0m\u001b[0m\n\u001b[0;32m     27\u001b[0m             \u001b[0mmisleading_targets\u001b[0m \u001b[1;33m=\u001b[0m \u001b[0mnp\u001b[0m\u001b[1;33m.\u001b[0m\u001b[0mzeros\u001b[0m\u001b[1;33m(\u001b[0m\u001b[1;33m(\u001b[0m\u001b[0mbatch_size\u001b[0m\u001b[1;33m,\u001b[0m \u001b[1;36m1\u001b[0m\u001b[1;33m)\u001b[0m\u001b[1;33m)\u001b[0m\u001b[1;33m\u001b[0m\u001b[1;33m\u001b[0m\u001b[0m\n\u001b[1;32m---> 28\u001b[1;33m             \u001b[0ma_loss\u001b[0m \u001b[1;33m=\u001b[0m \u001b[0mgan\u001b[0m\u001b[1;33m.\u001b[0m\u001b[0mtrain_on_batch\u001b[0m\u001b[1;33m(\u001b[0m\u001b[0mtemp_X\u001b[0m\u001b[1;33m,\u001b[0m \u001b[1;33m[\u001b[0m\u001b[0mmisleading_targets\u001b[0m\u001b[1;33m]\u001b[0m\u001b[1;33m)\u001b[0m\u001b[1;33m\u001b[0m\u001b[1;33m\u001b[0m\u001b[0m\n\u001b[0m\u001b[0;32m     29\u001b[0m         \u001b[0mfinal\u001b[0m\u001b[1;33m.\u001b[0m\u001b[0mappend\u001b[0m\u001b[1;33m(\u001b[0m\u001b[0mpredictions\u001b[0m\u001b[1;33m[\u001b[0m\u001b[1;36m0\u001b[0m\u001b[1;33m]\u001b[0m\u001b[1;33m)\u001b[0m\u001b[1;33m\u001b[0m\u001b[1;33m\u001b[0m\u001b[0m\n\u001b[0;32m     30\u001b[0m     \u001b[0mfinal\u001b[0m \u001b[1;33m=\u001b[0m \u001b[0mnp\u001b[0m\u001b[1;33m.\u001b[0m\u001b[0mconcatenate\u001b[0m\u001b[1;33m(\u001b[0m\u001b[1;33m(\u001b[0m\u001b[0mnp\u001b[0m\u001b[1;33m.\u001b[0m\u001b[0marray\u001b[0m\u001b[1;33m(\u001b[0m\u001b[0mfinal\u001b[0m\u001b[1;33m)\u001b[0m\u001b[1;33m,\u001b[0m \u001b[0my_train\u001b[0m\u001b[1;33m[\u001b[0m\u001b[1;33m:\u001b[0m\u001b[1;33m,\u001b[0m\u001b[1;33m-\u001b[0m\u001b[1;36m23\u001b[0m\u001b[1;33m:\u001b[0m\u001b[1;33m]\u001b[0m\u001b[1;33m)\u001b[0m\u001b[1;33m,\u001b[0m \u001b[0maxis\u001b[0m\u001b[1;33m=\u001b[0m\u001b[1;36m1\u001b[0m\u001b[1;33m)\u001b[0m\u001b[1;33m\u001b[0m\u001b[1;33m\u001b[0m\u001b[0m\n",
      "\u001b[1;32mE:\\Anaconda3\\lib\\site-packages\\tensorflow\\python\\keras\\engine\\training.py\u001b[0m in \u001b[0;36mtrain_on_batch\u001b[1;34m(self, x, y, sample_weight, class_weight, reset_metrics, return_dict)\u001b[0m\n\u001b[0;32m   1725\u001b[0m                                                     class_weight)\n\u001b[0;32m   1726\u001b[0m       \u001b[0mself\u001b[0m\u001b[1;33m.\u001b[0m\u001b[0mtrain_function\u001b[0m \u001b[1;33m=\u001b[0m \u001b[0mself\u001b[0m\u001b[1;33m.\u001b[0m\u001b[0mmake_train_function\u001b[0m\u001b[1;33m(\u001b[0m\u001b[1;33m)\u001b[0m\u001b[1;33m\u001b[0m\u001b[1;33m\u001b[0m\u001b[0m\n\u001b[1;32m-> 1727\u001b[1;33m       \u001b[0mlogs\u001b[0m \u001b[1;33m=\u001b[0m \u001b[0mself\u001b[0m\u001b[1;33m.\u001b[0m\u001b[0mtrain_function\u001b[0m\u001b[1;33m(\u001b[0m\u001b[0miterator\u001b[0m\u001b[1;33m)\u001b[0m\u001b[1;33m\u001b[0m\u001b[1;33m\u001b[0m\u001b[0m\n\u001b[0m\u001b[0;32m   1728\u001b[0m \u001b[1;33m\u001b[0m\u001b[0m\n\u001b[0;32m   1729\u001b[0m     \u001b[1;32mif\u001b[0m \u001b[0mreset_metrics\u001b[0m\u001b[1;33m:\u001b[0m\u001b[1;33m\u001b[0m\u001b[1;33m\u001b[0m\u001b[0m\n",
      "\u001b[1;32mE:\\Anaconda3\\lib\\site-packages\\tensorflow\\python\\eager\\def_function.py\u001b[0m in \u001b[0;36m__call__\u001b[1;34m(self, *args, **kwds)\u001b[0m\n\u001b[0;32m    826\u001b[0m     \u001b[0mtracing_count\u001b[0m \u001b[1;33m=\u001b[0m \u001b[0mself\u001b[0m\u001b[1;33m.\u001b[0m\u001b[0mexperimental_get_tracing_count\u001b[0m\u001b[1;33m(\u001b[0m\u001b[1;33m)\u001b[0m\u001b[1;33m\u001b[0m\u001b[1;33m\u001b[0m\u001b[0m\n\u001b[0;32m    827\u001b[0m     \u001b[1;32mwith\u001b[0m \u001b[0mtrace\u001b[0m\u001b[1;33m.\u001b[0m\u001b[0mTrace\u001b[0m\u001b[1;33m(\u001b[0m\u001b[0mself\u001b[0m\u001b[1;33m.\u001b[0m\u001b[0m_name\u001b[0m\u001b[1;33m)\u001b[0m \u001b[1;32mas\u001b[0m \u001b[0mtm\u001b[0m\u001b[1;33m:\u001b[0m\u001b[1;33m\u001b[0m\u001b[1;33m\u001b[0m\u001b[0m\n\u001b[1;32m--> 828\u001b[1;33m       \u001b[0mresult\u001b[0m \u001b[1;33m=\u001b[0m \u001b[0mself\u001b[0m\u001b[1;33m.\u001b[0m\u001b[0m_call\u001b[0m\u001b[1;33m(\u001b[0m\u001b[1;33m*\u001b[0m\u001b[0margs\u001b[0m\u001b[1;33m,\u001b[0m \u001b[1;33m**\u001b[0m\u001b[0mkwds\u001b[0m\u001b[1;33m)\u001b[0m\u001b[1;33m\u001b[0m\u001b[1;33m\u001b[0m\u001b[0m\n\u001b[0m\u001b[0;32m    829\u001b[0m       \u001b[0mcompiler\u001b[0m \u001b[1;33m=\u001b[0m \u001b[1;34m\"xla\"\u001b[0m \u001b[1;32mif\u001b[0m \u001b[0mself\u001b[0m\u001b[1;33m.\u001b[0m\u001b[0m_experimental_compile\u001b[0m \u001b[1;32melse\u001b[0m \u001b[1;34m\"nonXla\"\u001b[0m\u001b[1;33m\u001b[0m\u001b[1;33m\u001b[0m\u001b[0m\n\u001b[0;32m    830\u001b[0m       \u001b[0mnew_tracing_count\u001b[0m \u001b[1;33m=\u001b[0m \u001b[0mself\u001b[0m\u001b[1;33m.\u001b[0m\u001b[0mexperimental_get_tracing_count\u001b[0m\u001b[1;33m(\u001b[0m\u001b[1;33m)\u001b[0m\u001b[1;33m\u001b[0m\u001b[1;33m\u001b[0m\u001b[0m\n",
      "\u001b[1;32mE:\\Anaconda3\\lib\\site-packages\\tensorflow\\python\\eager\\def_function.py\u001b[0m in \u001b[0;36m_call\u001b[1;34m(self, *args, **kwds)\u001b[0m\n\u001b[0;32m    853\u001b[0m       \u001b[1;31m# In this case we have created variables on the first call, so we run the\u001b[0m\u001b[1;33m\u001b[0m\u001b[1;33m\u001b[0m\u001b[1;33m\u001b[0m\u001b[0m\n\u001b[0;32m    854\u001b[0m       \u001b[1;31m# defunned version which is guaranteed to never create variables.\u001b[0m\u001b[1;33m\u001b[0m\u001b[1;33m\u001b[0m\u001b[1;33m\u001b[0m\u001b[0m\n\u001b[1;32m--> 855\u001b[1;33m       \u001b[1;32mreturn\u001b[0m \u001b[0mself\u001b[0m\u001b[1;33m.\u001b[0m\u001b[0m_stateless_fn\u001b[0m\u001b[1;33m(\u001b[0m\u001b[1;33m*\u001b[0m\u001b[0margs\u001b[0m\u001b[1;33m,\u001b[0m \u001b[1;33m**\u001b[0m\u001b[0mkwds\u001b[0m\u001b[1;33m)\u001b[0m  \u001b[1;31m# pylint: disable=not-callable\u001b[0m\u001b[1;33m\u001b[0m\u001b[1;33m\u001b[0m\u001b[0m\n\u001b[0m\u001b[0;32m    856\u001b[0m     \u001b[1;32melif\u001b[0m \u001b[0mself\u001b[0m\u001b[1;33m.\u001b[0m\u001b[0m_stateful_fn\u001b[0m \u001b[1;32mis\u001b[0m \u001b[1;32mnot\u001b[0m \u001b[1;32mNone\u001b[0m\u001b[1;33m:\u001b[0m\u001b[1;33m\u001b[0m\u001b[1;33m\u001b[0m\u001b[0m\n\u001b[0;32m    857\u001b[0m       \u001b[1;31m# Release the lock early so that multiple threads can perform the call\u001b[0m\u001b[1;33m\u001b[0m\u001b[1;33m\u001b[0m\u001b[1;33m\u001b[0m\u001b[0m\n",
      "\u001b[1;32mE:\\Anaconda3\\lib\\site-packages\\tensorflow\\python\\eager\\function.py\u001b[0m in \u001b[0;36m__call__\u001b[1;34m(self, *args, **kwargs)\u001b[0m\n\u001b[0;32m   2940\u001b[0m       (graph_function,\n\u001b[0;32m   2941\u001b[0m        filtered_flat_args) = self._maybe_define_function(args, kwargs)\n\u001b[1;32m-> 2942\u001b[1;33m     return graph_function._call_flat(\n\u001b[0m\u001b[0;32m   2943\u001b[0m         filtered_flat_args, captured_inputs=graph_function.captured_inputs)  # pylint: disable=protected-access\n\u001b[0;32m   2944\u001b[0m \u001b[1;33m\u001b[0m\u001b[0m\n",
      "\u001b[1;32mE:\\Anaconda3\\lib\\site-packages\\tensorflow\\python\\eager\\function.py\u001b[0m in \u001b[0;36m_call_flat\u001b[1;34m(self, args, captured_inputs, cancellation_manager)\u001b[0m\n\u001b[0;32m   1916\u001b[0m         and executing_eagerly):\n\u001b[0;32m   1917\u001b[0m       \u001b[1;31m# No tape is watching; skip to running the function.\u001b[0m\u001b[1;33m\u001b[0m\u001b[1;33m\u001b[0m\u001b[1;33m\u001b[0m\u001b[0m\n\u001b[1;32m-> 1918\u001b[1;33m       return self._build_call_outputs(self._inference_function.call(\n\u001b[0m\u001b[0;32m   1919\u001b[0m           ctx, args, cancellation_manager=cancellation_manager))\n\u001b[0;32m   1920\u001b[0m     forward_backward = self._select_forward_and_backward_functions(\n",
      "\u001b[1;32mE:\\Anaconda3\\lib\\site-packages\\tensorflow\\python\\eager\\function.py\u001b[0m in \u001b[0;36mcall\u001b[1;34m(self, ctx, args, cancellation_manager)\u001b[0m\n\u001b[0;32m    553\u001b[0m       \u001b[1;32mwith\u001b[0m \u001b[0m_InterpolateFunctionError\u001b[0m\u001b[1;33m(\u001b[0m\u001b[0mself\u001b[0m\u001b[1;33m)\u001b[0m\u001b[1;33m:\u001b[0m\u001b[1;33m\u001b[0m\u001b[1;33m\u001b[0m\u001b[0m\n\u001b[0;32m    554\u001b[0m         \u001b[1;32mif\u001b[0m \u001b[0mcancellation_manager\u001b[0m \u001b[1;32mis\u001b[0m \u001b[1;32mNone\u001b[0m\u001b[1;33m:\u001b[0m\u001b[1;33m\u001b[0m\u001b[1;33m\u001b[0m\u001b[0m\n\u001b[1;32m--> 555\u001b[1;33m           outputs = execute.execute(\n\u001b[0m\u001b[0;32m    556\u001b[0m               \u001b[0mstr\u001b[0m\u001b[1;33m(\u001b[0m\u001b[0mself\u001b[0m\u001b[1;33m.\u001b[0m\u001b[0msignature\u001b[0m\u001b[1;33m.\u001b[0m\u001b[0mname\u001b[0m\u001b[1;33m)\u001b[0m\u001b[1;33m,\u001b[0m\u001b[1;33m\u001b[0m\u001b[1;33m\u001b[0m\u001b[0m\n\u001b[0;32m    557\u001b[0m               \u001b[0mnum_outputs\u001b[0m\u001b[1;33m=\u001b[0m\u001b[0mself\u001b[0m\u001b[1;33m.\u001b[0m\u001b[0m_num_outputs\u001b[0m\u001b[1;33m,\u001b[0m\u001b[1;33m\u001b[0m\u001b[1;33m\u001b[0m\u001b[0m\n",
      "\u001b[1;32mE:\\Anaconda3\\lib\\site-packages\\tensorflow\\python\\eager\\execute.py\u001b[0m in \u001b[0;36mquick_execute\u001b[1;34m(op_name, num_outputs, inputs, attrs, ctx, name)\u001b[0m\n\u001b[0;32m     57\u001b[0m   \u001b[1;32mtry\u001b[0m\u001b[1;33m:\u001b[0m\u001b[1;33m\u001b[0m\u001b[1;33m\u001b[0m\u001b[0m\n\u001b[0;32m     58\u001b[0m     \u001b[0mctx\u001b[0m\u001b[1;33m.\u001b[0m\u001b[0mensure_initialized\u001b[0m\u001b[1;33m(\u001b[0m\u001b[1;33m)\u001b[0m\u001b[1;33m\u001b[0m\u001b[1;33m\u001b[0m\u001b[0m\n\u001b[1;32m---> 59\u001b[1;33m     tensors = pywrap_tfe.TFE_Py_Execute(ctx._handle, device_name, op_name,\n\u001b[0m\u001b[0;32m     60\u001b[0m                                         inputs, attrs, num_outputs)\n\u001b[0;32m     61\u001b[0m   \u001b[1;32mexcept\u001b[0m \u001b[0mcore\u001b[0m\u001b[1;33m.\u001b[0m\u001b[0m_NotOkStatusException\u001b[0m \u001b[1;32mas\u001b[0m \u001b[0me\u001b[0m\u001b[1;33m:\u001b[0m\u001b[1;33m\u001b[0m\u001b[1;33m\u001b[0m\u001b[0m\n",
      "\u001b[1;31mResourceExhaustedError\u001b[0m:    OOM when allocating tensor with shape[256,1024] and type float on /job:localhost/replica:0/task:0/device:CPU:0 by allocator cpu\n\t [[{{node gradients/while_grad/while_grad/body/_1/gradients/while_grad/gradients/while/MatMul_1_grad/MatMul_1}}]]\nHint: If you want to see a list of allocated tensors when OOM happens, add report_tensor_allocations_upon_oom to RunOptions for current allocation info.\n\n\t [[Adam/gradients/PartitionedCall_4]]\nHint: If you want to see a list of allocated tensors when OOM happens, add report_tensor_allocations_upon_oom to RunOptions for current allocation info.\n [Op:__inference_train_function_18869]\n\nFunction call stack:\ntrain_function -> train_function -> train_function\n"
     ]
    }
   ],
   "source": [
    "batch_size = 1\n",
    "start = 0\n",
    "#iterations = 61-1\n",
    "iterations = train_size-step_size+1\n",
    "\n",
    "\n",
    "for epoch in range(171,181):\n",
    "    print(epoch)\n",
    "    final = []\n",
    "    # 开始训练迭代\n",
    "    for step in tqdm(range(iterations)):\n",
    "        temp_X = copy.deepcopy(X_train[step])\n",
    "        temp_X = temp_X.reshape(batch_size,step_size,feature_num)\n",
    "        temp_Y = copy.deepcopy(train_Y[step])\n",
    "        temp_Y = temp_Y.reshape(batch_size,1)\n",
    "        predictions = generator.predict(temp_X)\n",
    "        # 训练鉴别器（discrimitor）\n",
    "        for i in range(25):\n",
    "            aaa = X_train[step]\n",
    "            input_f = np.concatenate([np.transpose(np.array([aaa[:,0]])), predictions], 0)\n",
    "            input_r = np.concatenate([np.transpose(np.array([aaa[:,0]])), temp_Y], 0)\n",
    "            input = np.concatenate([[input_f],[input_r]])\n",
    "            labels = np.concatenate([[np.ones((1, 1))], [np.zeros((1, 1))]])   \n",
    "            d_loss = discriminator.train_on_batch(input, labels)\n",
    "            # 训练生成器（generator）（通过gan模型，鉴别器（discrimitor）权值被冻结）\n",
    "        for i in range(5):\n",
    "            misleading_targets = np.zeros((batch_size, 1))\n",
    "            a_loss = gan.train_on_batch(temp_X, [misleading_targets])\n",
    "        final.append(predictions[0])\n",
    "    final = np.concatenate((np.array(final), y_train[:,-23:]), axis=1)\n",
    "    final2 = y_train\n",
    "    int_train_pre = sc.inverse_transform(final)\n",
    "    int_train_real = sc.inverse_transform(final2)\n",
    "    MAPE_train = np.mean(np.abs((int_train_real[:,0] - int_train_pre[:,0]) / int_train_real[:,0]))\n",
    "    #MAPE_O1 = np.mean(np.abs((final2[:,0] - final[:,0]) / final2[:,0]))\n",
    "    train_mse = mean_squared_error(int_train_real[:,0], int_train_pre[:,0])\n",
    "    train_rmse = train_mse**(1/2)\n",
    "    final = []\n",
    "    for step in range(len(test_Y)):  #测试集长度\n",
    "        temp_X = copy.deepcopy(X_test[step])\n",
    "        temp_X = temp_X.reshape(batch_size, step_size, feature_num)\n",
    "        predictions = generator.predict(temp_X)\n",
    "        final.append(predictions[0])\n",
    "    print(np.array(final).shape)\n",
    "    final = np.concatenate((np.array(final), y_test[:,-23:]), axis=1)\n",
    "    final2 = y_test\n",
    "    int_test_pre = sc.inverse_transform(final)\n",
    "    int_test_real = sc.inverse_transform(final2)\n",
    "    #MAPE_O2 = np.mean(np.abs((final2[:,0] - final[:,0]) / final2[:,0]))\n",
    "    MAPE_test = np.mean(np.abs((int_test_real[:,0] - int_test_pre[:,0]) / int_test_real[:,0]))\n",
    "    test_mse = mean_squared_error(int_test_real[:,0], int_test_pre[:,0])\n",
    "    test_rmse = test_mse**(1/2)\n",
    "    scores['Epoch'].append(epoch)\n",
    "    scores['Train_MAPE'].append(MAPE_train)\n",
    "    scores['Train_MSE'].append(train_mse)\n",
    "    scores['Train_RMSE'].append(train_rmse)\n",
    "    scores['Test_MAPE'].append(MAPE_test)\n",
    "    scores['Test_MSE'].append(test_mse)\n",
    "    scores['Test_RMSE'].append(test_rmse)\n",
    "    print('Epoch: {:3d} | Train MAPE: {:.4f}| Train RMSE: {:.6f}| Test MAPE: {:.4f} | Test RMSE: {:.6f}'.format(epoch, MAPE_train, train_rmse, MAPE_test, test_rmse))          \n",
    "    if test_rmse < least_RMSE:\n",
    "        text_g = '30d_generator_{:d}epoch_deep_best_RMSE'.format(epoch)\n",
    "        text_d = '30d_discriminator_{:d}epoch_deep_best_RMSE'.format(epoch)\n",
    "        text_ga = '30d_gan_{:d}epoch_deep_best_RMSE'.format(epoch)\n",
    "        generator.save(text_g)\n",
    "        discriminator.save(text_d)\n",
    "        gan.save(text_ga)\n",
    "        least_RMSE = test_rmse\n",
    "    elif MAPE_test < least_MAPE:\n",
    "        text_g = '30d_generator_{:d}epoch_deep_best_MAPE'.format(epoch)\n",
    "        text_d = '30d_discriminator_{:d}epoch_deep_best_MAPE'.format(epoch)\n",
    "        text_ga = '30d_gan_{:d}epoch_deep_best_MAPE'.format(epoch)\n",
    "        generator.save(text_g)\n",
    "        discriminator.save(text_d)\n",
    "        gan.save(text_ga)\n",
    "        least_MAPE = MAPE_test\n",
    "for i in range(10):\n",
    "    scores['Train_MAPE'][i] = scores['Train_MAPE'][i].item()\n",
    "    scores['Train_MSE'][i] = scores['Train_MSE'][i].item()\n",
    "    scores['Train_RMSE'][i] = scores['Train_RMSE'][i].item()\n",
    "    scores['Test_MAPE'][i] = scores['Test_MAPE'][i].item()\n",
    "    scores['Test_MSE'][i] = scores['Test_MSE'][i].item()\n",
    "    scores['Test_RMSE'][i] = scores['Test_RMSE'][i].item()\n",
    "with open('./epoch_171to180.json', 'w') as fp:\n",
    "          json.dump(scores, fp)"
   ]
  },
  {
   "cell_type": "code",
   "execution_count": 146,
   "metadata": {},
   "outputs": [
    {
     "data": {
      "text/plain": [
       "0.0034229004035239074"
      ]
     },
     "execution_count": 146,
     "metadata": {},
     "output_type": "execute_result"
    }
   ],
   "source": [
    "least_RMSE"
   ]
  },
  {
   "cell_type": "code",
   "execution_count": 147,
   "metadata": {},
   "outputs": [
    {
     "data": {
      "text/plain": [
       "0.0027090956"
      ]
     },
     "execution_count": 147,
     "metadata": {},
     "output_type": "execute_result"
    }
   ],
   "source": [
    "least_MAPE"
   ]
  },
  {
   "cell_type": "code",
   "execution_count": 118,
   "metadata": {},
   "outputs": [],
   "source": [
    "scs = {}\n",
    "scs['Epoch'] = []\n",
    "scs['Train_MAPE'] = []\n",
    "scs['Train_MSE'] = []\n",
    "scs['Train_RMSE'] = []\n",
    "scs['Test_MAPE'] = []\n",
    "scs['Test_MSE'] = []\n",
    "scs['Test_RMSE'] = []"
   ]
  },
  {
   "cell_type": "code",
   "execution_count": 103,
   "metadata": {},
   "outputs": [
    {
     "ename": "TypeError",
     "evalue": "Object of type float32 is not JSON serializable",
     "output_type": "error",
     "traceback": [
      "\u001b[1;31m---------------------------------------------------------------------------\u001b[0m",
      "\u001b[1;31mTypeError\u001b[0m                                 Traceback (most recent call last)",
      "\u001b[1;32m<ipython-input-103-8f07936b05a5>\u001b[0m in \u001b[0;36m<module>\u001b[1;34m\u001b[0m\n\u001b[0;32m      8\u001b[0m \u001b[1;33m\u001b[0m\u001b[0m\n\u001b[0;32m      9\u001b[0m \u001b[1;32mwith\u001b[0m \u001b[0mopen\u001b[0m\u001b[1;33m(\u001b[0m\u001b[1;34m'./epoch_81to90.json'\u001b[0m\u001b[1;33m,\u001b[0m \u001b[1;34m'w'\u001b[0m\u001b[1;33m)\u001b[0m \u001b[1;32mas\u001b[0m \u001b[0mfp\u001b[0m\u001b[1;33m:\u001b[0m\u001b[1;33m\u001b[0m\u001b[1;33m\u001b[0m\u001b[0m\n\u001b[1;32m---> 10\u001b[1;33m           \u001b[0mjson\u001b[0m\u001b[1;33m.\u001b[0m\u001b[0mdump\u001b[0m\u001b[1;33m(\u001b[0m\u001b[0mscores\u001b[0m\u001b[1;33m,\u001b[0m \u001b[0mfp\u001b[0m\u001b[1;33m)\u001b[0m\u001b[1;33m\u001b[0m\u001b[1;33m\u001b[0m\u001b[0m\n\u001b[0m",
      "\u001b[1;32mE:\\Anaconda3\\lib\\json\\__init__.py\u001b[0m in \u001b[0;36mdump\u001b[1;34m(obj, fp, skipkeys, ensure_ascii, check_circular, allow_nan, cls, indent, separators, default, sort_keys, **kw)\u001b[0m\n\u001b[0;32m    177\u001b[0m     \u001b[1;31m# could accelerate with writelines in some versions of Python, at\u001b[0m\u001b[1;33m\u001b[0m\u001b[1;33m\u001b[0m\u001b[1;33m\u001b[0m\u001b[0m\n\u001b[0;32m    178\u001b[0m     \u001b[1;31m# a debuggability cost\u001b[0m\u001b[1;33m\u001b[0m\u001b[1;33m\u001b[0m\u001b[1;33m\u001b[0m\u001b[0m\n\u001b[1;32m--> 179\u001b[1;33m     \u001b[1;32mfor\u001b[0m \u001b[0mchunk\u001b[0m \u001b[1;32min\u001b[0m \u001b[0miterable\u001b[0m\u001b[1;33m:\u001b[0m\u001b[1;33m\u001b[0m\u001b[1;33m\u001b[0m\u001b[0m\n\u001b[0m\u001b[0;32m    180\u001b[0m         \u001b[0mfp\u001b[0m\u001b[1;33m.\u001b[0m\u001b[0mwrite\u001b[0m\u001b[1;33m(\u001b[0m\u001b[0mchunk\u001b[0m\u001b[1;33m)\u001b[0m\u001b[1;33m\u001b[0m\u001b[1;33m\u001b[0m\u001b[0m\n\u001b[0;32m    181\u001b[0m \u001b[1;33m\u001b[0m\u001b[0m\n",
      "\u001b[1;32mE:\\Anaconda3\\lib\\json\\encoder.py\u001b[0m in \u001b[0;36m_iterencode\u001b[1;34m(o, _current_indent_level)\u001b[0m\n\u001b[0;32m    429\u001b[0m             \u001b[1;32myield\u001b[0m \u001b[1;32mfrom\u001b[0m \u001b[0m_iterencode_list\u001b[0m\u001b[1;33m(\u001b[0m\u001b[0mo\u001b[0m\u001b[1;33m,\u001b[0m \u001b[0m_current_indent_level\u001b[0m\u001b[1;33m)\u001b[0m\u001b[1;33m\u001b[0m\u001b[1;33m\u001b[0m\u001b[0m\n\u001b[0;32m    430\u001b[0m         \u001b[1;32melif\u001b[0m \u001b[0misinstance\u001b[0m\u001b[1;33m(\u001b[0m\u001b[0mo\u001b[0m\u001b[1;33m,\u001b[0m \u001b[0mdict\u001b[0m\u001b[1;33m)\u001b[0m\u001b[1;33m:\u001b[0m\u001b[1;33m\u001b[0m\u001b[1;33m\u001b[0m\u001b[0m\n\u001b[1;32m--> 431\u001b[1;33m             \u001b[1;32myield\u001b[0m \u001b[1;32mfrom\u001b[0m \u001b[0m_iterencode_dict\u001b[0m\u001b[1;33m(\u001b[0m\u001b[0mo\u001b[0m\u001b[1;33m,\u001b[0m \u001b[0m_current_indent_level\u001b[0m\u001b[1;33m)\u001b[0m\u001b[1;33m\u001b[0m\u001b[1;33m\u001b[0m\u001b[0m\n\u001b[0m\u001b[0;32m    432\u001b[0m         \u001b[1;32melse\u001b[0m\u001b[1;33m:\u001b[0m\u001b[1;33m\u001b[0m\u001b[1;33m\u001b[0m\u001b[0m\n\u001b[0;32m    433\u001b[0m             \u001b[1;32mif\u001b[0m \u001b[0mmarkers\u001b[0m \u001b[1;32mis\u001b[0m \u001b[1;32mnot\u001b[0m \u001b[1;32mNone\u001b[0m\u001b[1;33m:\u001b[0m\u001b[1;33m\u001b[0m\u001b[1;33m\u001b[0m\u001b[0m\n",
      "\u001b[1;32mE:\\Anaconda3\\lib\\json\\encoder.py\u001b[0m in \u001b[0;36m_iterencode_dict\u001b[1;34m(dct, _current_indent_level)\u001b[0m\n\u001b[0;32m    403\u001b[0m                 \u001b[1;32melse\u001b[0m\u001b[1;33m:\u001b[0m\u001b[1;33m\u001b[0m\u001b[1;33m\u001b[0m\u001b[0m\n\u001b[0;32m    404\u001b[0m                     \u001b[0mchunks\u001b[0m \u001b[1;33m=\u001b[0m \u001b[0m_iterencode\u001b[0m\u001b[1;33m(\u001b[0m\u001b[0mvalue\u001b[0m\u001b[1;33m,\u001b[0m \u001b[0m_current_indent_level\u001b[0m\u001b[1;33m)\u001b[0m\u001b[1;33m\u001b[0m\u001b[1;33m\u001b[0m\u001b[0m\n\u001b[1;32m--> 405\u001b[1;33m                 \u001b[1;32myield\u001b[0m \u001b[1;32mfrom\u001b[0m \u001b[0mchunks\u001b[0m\u001b[1;33m\u001b[0m\u001b[1;33m\u001b[0m\u001b[0m\n\u001b[0m\u001b[0;32m    406\u001b[0m         \u001b[1;32mif\u001b[0m \u001b[0mnewline_indent\u001b[0m \u001b[1;32mis\u001b[0m \u001b[1;32mnot\u001b[0m \u001b[1;32mNone\u001b[0m\u001b[1;33m:\u001b[0m\u001b[1;33m\u001b[0m\u001b[1;33m\u001b[0m\u001b[0m\n\u001b[0;32m    407\u001b[0m             \u001b[0m_current_indent_level\u001b[0m \u001b[1;33m-=\u001b[0m \u001b[1;36m1\u001b[0m\u001b[1;33m\u001b[0m\u001b[1;33m\u001b[0m\u001b[0m\n",
      "\u001b[1;32mE:\\Anaconda3\\lib\\json\\encoder.py\u001b[0m in \u001b[0;36m_iterencode_list\u001b[1;34m(lst, _current_indent_level)\u001b[0m\n\u001b[0;32m    323\u001b[0m                 \u001b[1;32melse\u001b[0m\u001b[1;33m:\u001b[0m\u001b[1;33m\u001b[0m\u001b[1;33m\u001b[0m\u001b[0m\n\u001b[0;32m    324\u001b[0m                     \u001b[0mchunks\u001b[0m \u001b[1;33m=\u001b[0m \u001b[0m_iterencode\u001b[0m\u001b[1;33m(\u001b[0m\u001b[0mvalue\u001b[0m\u001b[1;33m,\u001b[0m \u001b[0m_current_indent_level\u001b[0m\u001b[1;33m)\u001b[0m\u001b[1;33m\u001b[0m\u001b[1;33m\u001b[0m\u001b[0m\n\u001b[1;32m--> 325\u001b[1;33m                 \u001b[1;32myield\u001b[0m \u001b[1;32mfrom\u001b[0m \u001b[0mchunks\u001b[0m\u001b[1;33m\u001b[0m\u001b[1;33m\u001b[0m\u001b[0m\n\u001b[0m\u001b[0;32m    326\u001b[0m         \u001b[1;32mif\u001b[0m \u001b[0mnewline_indent\u001b[0m \u001b[1;32mis\u001b[0m \u001b[1;32mnot\u001b[0m \u001b[1;32mNone\u001b[0m\u001b[1;33m:\u001b[0m\u001b[1;33m\u001b[0m\u001b[1;33m\u001b[0m\u001b[0m\n\u001b[0;32m    327\u001b[0m             \u001b[0m_current_indent_level\u001b[0m \u001b[1;33m-=\u001b[0m \u001b[1;36m1\u001b[0m\u001b[1;33m\u001b[0m\u001b[1;33m\u001b[0m\u001b[0m\n",
      "\u001b[1;32mE:\\Anaconda3\\lib\\json\\encoder.py\u001b[0m in \u001b[0;36m_iterencode\u001b[1;34m(o, _current_indent_level)\u001b[0m\n\u001b[0;32m    436\u001b[0m                     \u001b[1;32mraise\u001b[0m \u001b[0mValueError\u001b[0m\u001b[1;33m(\u001b[0m\u001b[1;34m\"Circular reference detected\"\u001b[0m\u001b[1;33m)\u001b[0m\u001b[1;33m\u001b[0m\u001b[1;33m\u001b[0m\u001b[0m\n\u001b[0;32m    437\u001b[0m                 \u001b[0mmarkers\u001b[0m\u001b[1;33m[\u001b[0m\u001b[0mmarkerid\u001b[0m\u001b[1;33m]\u001b[0m \u001b[1;33m=\u001b[0m \u001b[0mo\u001b[0m\u001b[1;33m\u001b[0m\u001b[1;33m\u001b[0m\u001b[0m\n\u001b[1;32m--> 438\u001b[1;33m             \u001b[0mo\u001b[0m \u001b[1;33m=\u001b[0m \u001b[0m_default\u001b[0m\u001b[1;33m(\u001b[0m\u001b[0mo\u001b[0m\u001b[1;33m)\u001b[0m\u001b[1;33m\u001b[0m\u001b[1;33m\u001b[0m\u001b[0m\n\u001b[0m\u001b[0;32m    439\u001b[0m             \u001b[1;32myield\u001b[0m \u001b[1;32mfrom\u001b[0m \u001b[0m_iterencode\u001b[0m\u001b[1;33m(\u001b[0m\u001b[0mo\u001b[0m\u001b[1;33m,\u001b[0m \u001b[0m_current_indent_level\u001b[0m\u001b[1;33m)\u001b[0m\u001b[1;33m\u001b[0m\u001b[1;33m\u001b[0m\u001b[0m\n\u001b[0;32m    440\u001b[0m             \u001b[1;32mif\u001b[0m \u001b[0mmarkers\u001b[0m \u001b[1;32mis\u001b[0m \u001b[1;32mnot\u001b[0m \u001b[1;32mNone\u001b[0m\u001b[1;33m:\u001b[0m\u001b[1;33m\u001b[0m\u001b[1;33m\u001b[0m\u001b[0m\n",
      "\u001b[1;32mE:\\Anaconda3\\lib\\json\\encoder.py\u001b[0m in \u001b[0;36mdefault\u001b[1;34m(self, o)\u001b[0m\n\u001b[0;32m    177\u001b[0m \u001b[1;33m\u001b[0m\u001b[0m\n\u001b[0;32m    178\u001b[0m         \"\"\"\n\u001b[1;32m--> 179\u001b[1;33m         raise TypeError(f'Object of type {o.__class__.__name__} '\n\u001b[0m\u001b[0;32m    180\u001b[0m                         f'is not JSON serializable')\n\u001b[0;32m    181\u001b[0m \u001b[1;33m\u001b[0m\u001b[0m\n",
      "\u001b[1;31mTypeError\u001b[0m: Object of type float32 is not JSON serializable"
     ]
    }
   ],
   "source": [
    "del scores['Test_RMSE']\n",
    "\n",
    "scores['Test_RMSE'] = []\n",
    "mse = np.array(scores['Test_MSE'])\n",
    "\n",
    "for i in mse:\n",
    "    scores['Test_RMSE'].append(i**(1/2))\n",
    "    \n",
    "with open('./epoch_81to90.json', 'w') as fp:\n",
    "          json.dump(scores, fp)"
   ]
  },
  {
   "cell_type": "code",
   "execution_count": 115,
   "metadata": {},
   "outputs": [],
   "source": [
    "#type(scores['Epoch'][0].item())\n",
    "\n",
    "for i in range(10):\n",
    "    scores['Train_MAPE'][i] = scores['Train_MAPE'][i].item()\n",
    "    scores['Train_MSE'][i] = scores['Train_MSE'][i].item()\n",
    "    scores['Train_RMSE'][i] = scores['Train_RMSE'][i].item()\n",
    "    scores['Test_MAPE'][i] = scores['Test_MAPE'][i].item()\n",
    "    scores['Test_MSE'][i] = scores['Test_MSE'][i].item()\n",
    "    scores['Test_RMSE'][i] = scores['Test_RMSE'][i].item()\n",
    "\n",
    "with open('./epoch_81to90.json', 'w') as fp:\n",
    "          json.dump(scores, fp)"
   ]
  },
  {
   "cell_type": "code",
   "execution_count": null,
   "metadata": {},
   "outputs": [],
   "source": []
  },
  {
   "cell_type": "code",
   "execution_count": 129,
   "metadata": {},
   "outputs": [
    {
     "name": "stdout",
     "output_type": "stream",
     "text": [
      "Epoch:  91 | Train MAPE: 0.0056| Train RMSE: 0.007785| Test MAPE: 0.0061 | Test RMSE: 0.007196\n",
      "Epoch:  92 | Train MAPE: 0.0051| Train RMSE: 0.007244| Test MAPE: 0.0061 | Test RMSE: 0.007831\n",
      "Epoch:  93 | Train MAPE: 0.0061| Train RMSE: 0.008550| Test MAPE: 0.0066 | Test RMSE: 0.007590\n",
      "Epoch:  94 | Train MAPE: 0.0058| Train RMSE: 0.007918| Test MAPE: 0.0044 | Test RMSE: 0.005302\n",
      "Epoch:  95 | Train MAPE: 0.0055| Train RMSE: 0.007712| Test MAPE: 0.0042 | Test RMSE: 0.006144\n",
      "Epoch:  96 | Train MAPE: 0.0087| Train RMSE: 0.012334| Test MAPE: 0.0130 | Test RMSE: 0.015151\n",
      "Epoch:  97 | Train MAPE: 0.0080| Train RMSE: 0.010918| Test MAPE: 0.0093 | Test RMSE: 0.011099\n",
      "Epoch:  98 | Train MAPE: 0.0067| Train RMSE: 0.008984| Test MAPE: 0.0084 | Test RMSE: 0.009510\n",
      "Epoch:  99 | Train MAPE: 0.0056| Train RMSE: 0.007465| Test MAPE: 0.0073 | Test RMSE: 0.008236\n",
      "Epoch: 100 | Train MAPE: 0.0059| Train RMSE: 0.007921| Test MAPE: 0.0029 | Test RMSE: 0.003737\n"
     ]
    }
   ],
   "source": [
    "with open('./epoch_91to101.json') as fp:\n",
    "         scs = json.load(fp)\n",
    "        \n",
    "        \n",
    "for i in range(10):\n",
    "    print('Epoch: {:3d} | Train MAPE: {:.4f}| Train RMSE: {:.6f}| Test MAPE: {:.4f} | Test RMSE: {:.6f}'.format(scs['Epoch'][i], scs['Train_MAPE'][i], scs['Train_RMSE'][i], scs['Test_MAPE'][i], scs['Test_RMSE'][i]))"
   ]
  },
  {
   "cell_type": "code",
   "execution_count": 87,
   "metadata": {
    "colab": {
     "base_uri": "https://localhost:8080/"
    },
    "id": "lvFpC2rsqPHU",
    "outputId": "0238d6e4-6679-4f6b-b7d2-f4f8d6a35899"
   },
   "outputs": [
    {
     "name": "stdout",
     "output_type": "stream",
     "text": [
      "(1414, 1)\n",
      "testing result: 0.004475207\n"
     ]
    }
   ],
   "source": [
    "#得到测试集结果\n",
    "final = []\n",
    "for step in range(len(test_Y)):  #测试集长度\n",
    "\ttemp_X = copy.deepcopy(X_test[step])\n",
    "\ttemp_X = temp_X.reshape(batch_size, step_size, feature_num)\n",
    "\tpredictions = generator.predict(temp_X)\n",
    "\tfinal.append(predictions[0])\n",
    "print(np.array(final).shape)\n",
    "final = np.concatenate((np.array(final), y_test[:,-23:]), axis=1)\n",
    "final2 = y_test\n",
    "int1 = sc.inverse_transform(final)\n",
    "int2 = sc.inverse_transform(final2)\n",
    "#MAPE_O2 = np.mean(np.abs((final2[:,0] - final[:,0]) / final2[:,0]))\n",
    "MAPE_O2 = np.mean(np.abs((int2[:,0] - int1[:,0]) / int2[:,0]))\n",
    "print('testing result:',MAPE_O2)"
   ]
  },
  {
   "cell_type": "code",
   "execution_count": 88,
   "metadata": {
    "colab": {
     "base_uri": "https://localhost:8080/",
     "height": 295
    },
    "id": "nLvrnpfXqYoC",
    "outputId": "67f6e88c-84d2-4f00-da04-ad9fffc1e3e2"
   },
   "outputs": [
    {
     "data": {
      "image/png": "[encoded data removed]",
      "text/plain": [
       "<Figure size 432x288 with 1 Axes>"
      ]
     },
     "metadata": {
      "needs_background": "light"
     },
     "output_type": "display_data"
    }
   ],
   "source": [
    "import matplotlib.pyplot as plt\n",
    "plt.plot(int2[:,0], color = 'black', label = 'Actual Open Price')\n",
    "plt.plot(int1[:,0], color = 'green', label = 'PredictedStock Open Price')\n",
    "plt.title('Forex Price Prediction')\n",
    "plt.xlabel('Time')\n",
    "plt.ylabel('Forex Price')\n",
    "plt.legend()\n",
    "plt.show()"
   ]
  },
  {
   "cell_type": "code",
   "execution_count": 89,
   "metadata": {
    "colab": {
     "base_uri": "https://localhost:8080/"
    },
    "id": "sfw4L4-qqdaM",
    "outputId": "9c677dec-1e53-4483-c8f1-4bb572c5925a"
   },
   "outputs": [
    {
     "name": "stdout",
     "output_type": "stream",
     "text": [
      "MSE 80 epoches: 2.894014e-05\n"
     ]
    }
   ],
   "source": [
    "from sklearn.metrics import mean_squared_error\n",
    "mse_before_scale = mean_squared_error(int2[:,0], int1[:,0])\n",
    "print('MSE 80 epoches:',mse_before_scale)"
   ]
  },
  {
   "cell_type": "code",
   "execution_count": 90,
   "metadata": {},
   "outputs": [
    {
     "name": "stdout",
     "output_type": "stream",
     "text": [
      "RMSE 80 epoches: 0.005379604037502074\n"
     ]
    }
   ],
   "source": [
    "print('RMSE 80 epoches:',mse_before_scale**(1/2))"
   ]
  },
  {
   "cell_type": "code",
   "execution_count": 93,
   "metadata": {},
   "outputs": [
    {
     "name": "stderr",
     "output_type": "stream",
     "text": [
      "WARNING:absl:Found untraced functions such as lstm_cell_layer_call_and_return_conditional_losses, lstm_cell_layer_call_fn, lstm_cell_1_layer_call_and_return_conditional_losses, lstm_cell_1_layer_call_fn, lstm_cell_2_layer_call_and_return_conditional_losses while saving (showing 5 of 25). These functions will not be directly callable after loading.\n",
      "WARNING:absl:Found untraced functions such as lstm_cell_layer_call_and_return_conditional_losses, lstm_cell_layer_call_fn, lstm_cell_1_layer_call_and_return_conditional_losses, lstm_cell_1_layer_call_fn, lstm_cell_2_layer_call_and_return_conditional_losses while saving (showing 5 of 25). These functions will not be directly callable after loading.\n"
     ]
    },
    {
     "name": "stdout",
     "output_type": "stream",
     "text": [
      "INFO:tensorflow:Assets written to: 30d_generator_80epoch_deep\\assets\n"
     ]
    },
    {
     "name": "stderr",
     "output_type": "stream",
     "text": [
      "INFO:tensorflow:Assets written to: 30d_generator_80epoch_deep\\assets\n"
     ]
    },
    {
     "name": "stdout",
     "output_type": "stream",
     "text": [
      "INFO:tensorflow:Assets written to: 30d_discriminator_80epoch_deep\\assets\n"
     ]
    },
    {
     "name": "stderr",
     "output_type": "stream",
     "text": [
      "INFO:tensorflow:Assets written to: 30d_discriminator_80epoch_deep\\assets\n",
      "WARNING:absl:Found untraced functions such as lstm_cell_layer_call_and_return_conditional_losses, lstm_cell_layer_call_fn, lstm_cell_1_layer_call_and_return_conditional_losses, lstm_cell_1_layer_call_fn, lstm_cell_2_layer_call_and_return_conditional_losses while saving (showing 5 of 25). These functions will not be directly callable after loading.\n",
      "WARNING:absl:Found untraced functions such as lstm_cell_layer_call_and_return_conditional_losses, lstm_cell_layer_call_fn, lstm_cell_1_layer_call_and_return_conditional_losses, lstm_cell_1_layer_call_fn, lstm_cell_2_layer_call_and_return_conditional_losses while saving (showing 5 of 25). These functions will not be directly callable after loading.\n"
     ]
    },
    {
     "name": "stdout",
     "output_type": "stream",
     "text": [
      "INFO:tensorflow:Assets written to: 30d_gan_80epoch_deep\\assets\n"
     ]
    },
    {
     "name": "stderr",
     "output_type": "stream",
     "text": [
      "INFO:tensorflow:Assets written to: 30d_gan_80epoch_deep\\assets\n"
     ]
    }
   ],
   "source": [
    "from keras.models import load_model\n",
    "\n",
    "generator.save('30d_generator_80epoch_deep')\n",
    "discriminator.save('30d_discriminator_80epoch_deep')\n",
    "gan.save('30d_gan_80epoch_deep')"
   ]
  },
  {
   "cell_type": "code",
   "execution_count": 5,
   "metadata": {
    "colab": {
     "base_uri": "https://localhost:8080/"
    },
    "id": "F_HfEoEwqnux",
    "outputId": "8c248563-1796-434f-8130-72860bc1b2c9"
   },
   "outputs": [
    {
     "name": "stdout",
     "output_type": "stream",
     "text": [
      "WARNING:tensorflow:No training configuration found in save file, so the model was *not* compiled. Compile it manually.\n"
     ]
    }
   ],
   "source": [
    "# !unzip discriminator_30epoch.zip -d /\n",
    "# !unzip generator_30epoch.zip -d /\n",
    "# !unzip gan_30epoch.zip -d /\n",
    "\n",
    "from keras.models import load_model \n",
    "\n",
    "# generator = load_model('generator_1epoch.h5') #打开模型\n",
    "# discriminator = load_model('discriminator_1epoch.h5') #打开模型\n",
    "\n",
    "generator = keras.models.load_model(\"30d_generator_119epoch_deep_best_RMSE\")\n",
    "discriminator = keras.models.load_model(\"30d_discriminator_119epoch_deep_best_RMSE\")\n",
    "gan = keras.models.load_model(\"30d_gan_119epoch_deep_best_RMSE\")"
   ]
  },
  {
   "cell_type": "code",
   "execution_count": 8,
   "metadata": {
    "colab": {
     "base_uri": "https://localhost:8080/"
    },
    "id": "m9PEiy3eq-uS",
    "outputId": "9841a12a-bee1-4b83-81f7-7277324eaf24"
   },
   "outputs": [
    {
     "name": "stdout",
     "output_type": "stream",
     "text": [
      "(1414, 1)\n",
      "testing result: 0.002519216\n"
     ]
    }
   ],
   "source": [
    "batch_size = 1\n",
    "#得到测试集结果\n",
    "final = []\n",
    "for step in range(len(test_Y)):  #测试集长度\n",
    "\ttemp_X = copy.deepcopy(X_test[step])\n",
    "\ttemp_X = temp_X.reshape(batch_size, step_size, feature_num)\n",
    "\tpredictions = generator.predict(temp_X)\n",
    "\tfinal.append(predictions[0])\n",
    "print(np.array(final).shape)\n",
    "final = np.concatenate((np.array(final), y_test[:,-23:]), axis=1)\n",
    "final2 = y_test\n",
    "int1 = sc.inverse_transform(final)\n",
    "int2 = sc.inverse_transform(final2)\n",
    "#MAPE_O2 = np.mean(np.abs((final2[:,0] - final[:,0]) / final2[:,0]))\n",
    "MAPE_O2 = np.mean(np.abs((int2[:,0] - int1[:,0]) / int2[:,0]))\n",
    "print('testing result:',MAPE_O2)"
   ]
  },
  {
   "cell_type": "code",
   "execution_count": 9,
   "metadata": {
    "colab": {
     "base_uri": "https://localhost:8080/",
     "height": 295
    },
    "id": "wqO3buuMrFMN",
    "outputId": "95253d6c-9a24-41b6-fd48-2343fbc05662"
   },
   "outputs": [
    {
     "data": {
      "image/png": "[encoded data removed]",
      "text/plain": [
       "<Figure size 432x288 with 1 Axes>"
      ]
     },
     "metadata": {
      "needs_background": "light"
     },
     "output_type": "display_data"
    }
   ],
   "source": [
    "import matplotlib.pyplot as plt\n",
    "plt.plot(int2[:,0], color = 'black', label = 'Forex Open Price')\n",
    "plt.plot(int1[:,0], color = 'green', label = 'Predicted Forex Open Price')\n",
    "plt.title('Forex Price Prediction')\n",
    "plt.xlabel('Time')\n",
    "plt.ylabel('Forex Price')\n",
    "plt.legend()\n",
    "plt.show()"
   ]
  },
  {
   "cell_type": "code",
   "execution_count": 10,
   "metadata": {},
   "outputs": [
    {
     "data": {
      "image/png": "[encoded data removed]",
      "text/plain": [
       "<Figure size 432x288 with 1 Axes>"
      ]
     },
     "metadata": {
      "needs_background": "light"
     },
     "output_type": "display_data"
    }
   ],
   "source": [
    "import matplotlib.pyplot as plt\n",
    "plt.plot(int2[1000:1301,0], color = 'black', label = 'Forex Open Price')\n",
    "plt.plot(int1[1000:1301,0], color = 'green', label = 'Predicted Forex Open Price')\n",
    "plt.title('Forex Price Prediction')\n",
    "plt.xlabel('Time')\n",
    "plt.ylabel('Forex Price')\n",
    "plt.legend()\n",
    "plt.show()"
   ]
  },
  {
   "cell_type": "code",
   "execution_count": 19,
   "metadata": {
    "colab": {
     "base_uri": "https://localhost:8080/"
    },
    "id": "ZSE2kT2GrGxT",
    "outputId": "3b661f41-c96c-4671-cfd2-bbd248e5e003"
   },
   "outputs": [
    {
     "name": "stdout",
     "output_type": "stream",
     "text": [
      "MSE 30 epoches: 5.213089e-05\n"
     ]
    }
   ],
   "source": [
    "from sklearn.metrics import mean_squared_error\n",
    "mse_before_scale = mean_squared_error(int2[:,0], int1[:,0])\n",
    "print('MSE 30 epoches:',mse_before_scale)"
   ]
  }
 ],
 "metadata": {
  "colab": {
   "collapsed_sections": [],
   "name": "LSTM/CNN_GAN_clean.ipynb",
   "provenance": []
  },
  "kernelspec": {
   "display_name": "Python 3",
   "language": "python",
   "name": "python3"
  },
  "language_info": {
   "codemirror_mode": {
    "name": "ipython",
    "version": 3
   },
   "file_extension": ".py",
   "mimetype": "text/x-python",
   "name": "python",
   "nbconvert_exporter": "python",
   "pygments_lexer": "ipython3",
   "version": "3.8.3"
  }
 },
 "nbformat": 4,
 "nbformat_minor": 1
}
