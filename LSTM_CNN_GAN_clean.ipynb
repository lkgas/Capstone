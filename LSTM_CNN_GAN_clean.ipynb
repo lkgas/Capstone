{
  "nbformat": 4,
  "nbformat_minor": 0,
  "metadata": {
    "colab": {
      "name": "LSTM/CNN_GAN_clean.ipynb",
      "provenance": [],
      "collapsed_sections": []
    },
    "kernelspec": {
      "name": "python3",
      "display_name": "Python 3"
    },
    "language_info": {
      "name": "python"
    }
  },
  "cells": [
    {
      "cell_type": "code",
      "metadata": {
        "id": "wltLJ5UWo8F1"
      },
      "source": [
        "import keras\n",
        "from keras import layers\n",
        "import numpy as np\n",
        "import pandas as pd\n",
        "from sklearn.preprocessing import MinMaxScaler\n",
        "import copy\n",
        "from keras.models import Sequential, Model\n",
        "from keras.layers.convolutional import Conv1D\n",
        "from tqdm import tqdm\n",
        "import tensorflow as tf"
      ],
      "execution_count": 3,
      "outputs": []
    },
    {
      "cell_type": "code",
      "metadata": {
        "colab": {
          "base_uri": "https://localhost:8080/"
        },
        "id": "asBbUenRpO3y",
        "outputId": "88bd4f9d-8afe-42f6-fead-88d8b99ba651"
      },
      "source": [
        "from google.colab import drive\n",
        "drive.mount('/content/drive/')"
      ],
      "execution_count": 4,
      "outputs": [
        {
          "output_type": "stream",
          "text": [
            "Mounted at /content/drive/\n"
          ],
          "name": "stdout"
        }
      ]
    },
    {
      "cell_type": "code",
      "metadata": {
        "colab": {
          "base_uri": "https://localhost:8080/"
        },
        "id": "_O8jO_UFprcz",
        "outputId": "8fe18794-0158-4182-c8ba-bdea6a3e3dc3"
      },
      "source": [
        "step_size = 5  #多少天预测一天\n",
        "feature_num = 24  #多少个features，注意不同indicators时的修改！！！！！！\n",
        "\n",
        "\n",
        "generator_input = keras.Input(shape=(step_size,feature_num))\n",
        "x = layers.LSTM(75,return_sequences=True)(generator_input)\n",
        "#x = layers.Dropout(0.2)(x)\n",
        "#x = layers.LSTM(25)(x)\n",
        "x = layers.Dropout(0.2)(x)\n",
        "x = layers.LSTM(units = 50, return_sequences = True)(x)\n",
        "x = layers.Dropout(0.2)(x)\n",
        "x = layers.LSTM(units = 50, return_sequences = True)(x)\n",
        "x = layers.Dropout(0.2)(x)\n",
        "x = layers.LSTM(units = 50)(x)\n",
        "x = layers.Dropout(0.2)(x)\n",
        "x = layers.Dense(1)(x)\n",
        "x = layers.LeakyReLU()(x)\n",
        "generator = keras.models.Model(generator_input, x)\n",
        "generator.summary()\n",
        "\n",
        "discriminator_input = layers.Input(shape=(step_size+1,1))\n",
        "y = layers.Conv1D(filters=100, kernel_size=3, activation='relu')(discriminator_input)\n",
        "y = layers.Conv1D(filters=100, kernel_size=3, activation='relu')(y)\n",
        "y = layers.Dropout(0.5)(y)\n",
        "y = layers.Conv1D(filters=160, kernel_size=2, activation='relu')(y)\n",
        "y = layers.Dropout(0.5)(y)\n",
        "y = layers.Dense(100, activation='relu')(y)\n",
        "y = layers.Dense(1,activation='sigmoid')(y)\n",
        "discriminator = keras.models.Model(discriminator_input, y)\n",
        "discriminator.summary()\n",
        "\n",
        "# 为了训练稳定，在优化器中使用学习率衰减和梯度限幅（按值）。\n",
        "#discriminator_optimizer = keras.optimizers.RMSprop(lr=8e-4, clipvalue=1.0, decay=1e-8)\n",
        "discriminator_optimizer = keras.optimizers.Adam(0.0001, 0.4)\n",
        "discriminator.compile(optimizer=discriminator_optimizer, loss='binary_crossentropy')\n",
        "\n",
        "# 将鉴别器（discrimitor）权重设置为不可训练（仅适用于`gan`模型）\n",
        "discriminator.trainable = False\n",
        "gan_input = keras.Input(shape=(step_size, feature_num))\n",
        "gan_output = discriminator(keras.layers.Concatenate(axis=1)([gan_input[:,:,0],generator(gan_input)]))\n",
        "gan = keras.models.Model(gan_input, gan_output)\n",
        "#gan_optimizer = keras.optimizers.RMSprop(lr=4e-4, clipvalue=1.0, decay=1e-8)\n",
        "gan_optimizer = keras.optimizers.Adam(0.0001, 0.4)\n",
        "gan.compile(optimizer=gan_optimizer, loss='mean_squared_error')"
      ],
      "execution_count": 8,
      "outputs": [
        {
          "output_type": "stream",
          "text": [
            "Model: \"model_6\"\n",
            "_________________________________________________________________\n",
            "Layer (type)                 Output Shape              Param #   \n",
            "=================================================================\n",
            "input_7 (InputLayer)         [(None, 5, 24)]           0         \n",
            "_________________________________________________________________\n",
            "lstm_8 (LSTM)                (None, 5, 75)             30000     \n",
            "_________________________________________________________________\n",
            "dropout_12 (Dropout)         (None, 5, 75)             0         \n",
            "_________________________________________________________________\n",
            "lstm_9 (LSTM)                (None, 5, 50)             25200     \n",
            "_________________________________________________________________\n",
            "dropout_13 (Dropout)         (None, 5, 50)             0         \n",
            "_________________________________________________________________\n",
            "lstm_10 (LSTM)               (None, 5, 50)             20200     \n",
            "_________________________________________________________________\n",
            "dropout_14 (Dropout)         (None, 5, 50)             0         \n",
            "_________________________________________________________________\n",
            "lstm_11 (LSTM)               (None, 50)                20200     \n",
            "_________________________________________________________________\n",
            "dropout_15 (Dropout)         (None, 50)                0         \n",
            "_________________________________________________________________\n",
            "dense_6 (Dense)              (None, 1)                 51        \n",
            "_________________________________________________________________\n",
            "leaky_re_lu_2 (LeakyReLU)    (None, 1)                 0         \n",
            "=================================================================\n",
            "Total params: 95,651\n",
            "Trainable params: 95,651\n",
            "Non-trainable params: 0\n",
            "_________________________________________________________________\n",
            "Model: \"model_7\"\n",
            "_________________________________________________________________\n",
            "Layer (type)                 Output Shape              Param #   \n",
            "=================================================================\n",
            "input_8 (InputLayer)         [(None, 6, 1)]            0         \n",
            "_________________________________________________________________\n",
            "conv1d_6 (Conv1D)            (None, 4, 100)            400       \n",
            "_________________________________________________________________\n",
            "conv1d_7 (Conv1D)            (None, 2, 100)            30100     \n",
            "_________________________________________________________________\n",
            "dropout_16 (Dropout)         (None, 2, 100)            0         \n",
            "_________________________________________________________________\n",
            "conv1d_8 (Conv1D)            (None, 1, 160)            32160     \n",
            "_________________________________________________________________\n",
            "dropout_17 (Dropout)         (None, 1, 160)            0         \n",
            "_________________________________________________________________\n",
            "dense_7 (Dense)              (None, 1, 100)            16100     \n",
            "_________________________________________________________________\n",
            "dense_8 (Dense)              (None, 1, 1)              101       \n",
            "=================================================================\n",
            "Total params: 78,861\n",
            "Trainable params: 78,861\n",
            "Non-trainable params: 0\n",
            "_________________________________________________________________\n"
          ],
          "name": "stdout"
        }
      ]
    },
    {
      "cell_type": "code",
      "metadata": {
        "id": "ZDJueY2AphZQ"
      },
      "source": [
        "dataset_train = pd.read_csv('/content/drive/MyDrive/Capstone_data/AUD_CAD_Processed.csv')\n",
        "dataset_train.dropna(axis=0, how='any', inplace=True)\n",
        "dataset_train.drop(['Unnamed: 0'], axis=1, inplace=True)\n",
        "train_size = 3370 #70% of data\n",
        "from sklearn.preprocessing import MinMaxScaler\n",
        "sc = MinMaxScaler(feature_range = (0, 1))\n",
        "values = dataset_train.values #67*6\n",
        "# ensure all data is float\n",
        "values = values.astype('float32')\n",
        "training_set_scaled = sc.fit_transform(values[:3371,:])\n",
        "testing_set_scaled = sc.transform(values[3371:,:])\n",
        "X_train = []\n",
        "y_train = []\n",
        "for i in range(5, train_size+1):\n",
        "    X_train.append(training_set_scaled[i-5:i])\n",
        "    y_train.append(training_set_scaled[i])\n",
        "X_train, y_train = np.array(X_train), np.array(y_train)\n",
        "X_train = np.reshape(X_train, (X_train.shape[0], X_train.shape[1], feature_num))\n",
        "train_Y = y_train[:,0]\n",
        "\n",
        "X_test = []\n",
        "y_test = []\n",
        "for i in range(5, len(testing_set_scaled)):\n",
        "    X_test.append(testing_set_scaled[i-5:i])\n",
        "    y_test.append(testing_set_scaled[i])\n",
        "X_test, y_test = np.array(X_test), np.array(y_test)\n",
        "\n",
        "X_test = np.reshape(X_test, (X_test.shape[0], X_test.shape[1], feature_num))\n",
        "test_Y = y_test[:,0]\n"
      ],
      "execution_count": 9,
      "outputs": []
    },
    {
      "cell_type": "code",
      "metadata": {
        "colab": {
          "base_uri": "https://localhost:8080/",
          "height": 270
        },
        "id": "D2pkHmFsp9Z7",
        "outputId": "f0d930f5-96e9-41cb-9e73-884144a90075"
      },
      "source": [
        "batch_size = 1\n",
        "start = 0\n",
        "#iterations = 61-1\n",
        "iterations = train_size-step_size+1\n",
        "\n",
        "\n",
        "for epoch in range(1):\n",
        "  print(epoch)\n",
        "  final = []\n",
        "  # 开始训练迭代\n",
        "  for step in tqdm(range(iterations)):\n",
        "    temp_X = copy.deepcopy(X_train[step])\n",
        "    temp_X = temp_X.reshape(batch_size,step_size,feature_num)\n",
        "    temp_Y = copy.deepcopy(train_Y[step])\n",
        "    temp_Y = temp_Y.reshape(batch_size,1)\n",
        "    predictions = generator.predict(temp_X)\n",
        "    # 训练鉴别器（discrimitor）\n",
        "    for i in range(25):\n",
        "      aaa = X_train[step]\n",
        "      input_f = np.concatenate([np.transpose(np.array([aaa[:,0]])), predictions], 0)\n",
        "      input_r = np.concatenate([np.transpose(np.array([aaa[:,0]])), temp_Y], 0)\n",
        "      input = np.concatenate([[input_f],[input_r]])\n",
        "      labels = np.concatenate([[np.ones((1, 1))], [np.zeros((1, 1))]])   \n",
        "      d_loss = discriminator.train_on_batch(input, labels)\n",
        "    # 训练生成器（generator）（通过gan模型，鉴别器（discrimitor）权值被冻结）\n",
        "    for i in range(5):\n",
        "      misleading_targets = np.zeros((batch_size, 1))\n",
        "      a_loss = gan.train_on_batch(temp_X, [misleading_targets])\n",
        "    final.append(predictions[0])\n",
        "  final = np.concatenate((np.array(final), y_train[:,-23:]), axis=1)\n",
        "  final2 = y_train\n",
        "  int1 = sc.inverse_transform(final)\n",
        "  int2 = sc.inverse_transform(final2)\n",
        "  MAPE_O1 = np.mean(np.abs((int2[:,0] - int1[:,0]) / int2[:,0]))\n",
        "  #MAPE_O1 = np.mean(np.abs((final2[:,0] - final[:,0]) / final2[:,0]))\n",
        "  print('training result:',MAPE_O1)"
      ],
      "execution_count": 11,
      "outputs": [
        {
          "output_type": "stream",
          "text": [
            "\r  0%|          | 0/3366 [00:00<?, ?it/s]"
          ],
          "name": "stderr"
        },
        {
          "output_type": "stream",
          "text": [
            "0\n"
          ],
          "name": "stdout"
        },
        {
          "output_type": "stream",
          "text": [
            "100%|██████████| 3366/3366 [18:46<00:00,  2.99it/s]\n"
          ],
          "name": "stderr"
        },
        {
          "output_type": "error",
          "ename": "NameError",
          "evalue": "ignored",
          "traceback": [
            "\u001b[0;31m---------------------------------------------------------------------------\u001b[0m",
            "\u001b[0;31mNameError\u001b[0m                                 Traceback (most recent call last)",
            "\u001b[0;32m<ipython-input-11-889fe61c588e>\u001b[0m in \u001b[0;36m<module>\u001b[0;34m()\u001b[0m\n\u001b[1;32m     30\u001b[0m   \u001b[0mfinal\u001b[0m \u001b[0;34m=\u001b[0m \u001b[0mnp\u001b[0m\u001b[0;34m.\u001b[0m\u001b[0mconcatenate\u001b[0m\u001b[0;34m(\u001b[0m\u001b[0;34m(\u001b[0m\u001b[0mnp\u001b[0m\u001b[0;34m.\u001b[0m\u001b[0marray\u001b[0m\u001b[0;34m(\u001b[0m\u001b[0mfinal\u001b[0m\u001b[0;34m)\u001b[0m\u001b[0;34m,\u001b[0m \u001b[0my_train\u001b[0m\u001b[0;34m[\u001b[0m\u001b[0;34m:\u001b[0m\u001b[0;34m,\u001b[0m\u001b[0;34m-\u001b[0m\u001b[0;36m23\u001b[0m\u001b[0;34m:\u001b[0m\u001b[0;34m]\u001b[0m\u001b[0;34m)\u001b[0m\u001b[0;34m,\u001b[0m \u001b[0maxis\u001b[0m\u001b[0;34m=\u001b[0m\u001b[0;36m1\u001b[0m\u001b[0;34m)\u001b[0m\u001b[0;34m\u001b[0m\u001b[0;34m\u001b[0m\u001b[0m\n\u001b[1;32m     31\u001b[0m   \u001b[0mfinal2\u001b[0m \u001b[0;34m=\u001b[0m \u001b[0my_train\u001b[0m\u001b[0;34m\u001b[0m\u001b[0;34m\u001b[0m\u001b[0m\n\u001b[0;32m---> 32\u001b[0;31m   \u001b[0mint1\u001b[0m \u001b[0;34m=\u001b[0m \u001b[0mscaler\u001b[0m\u001b[0;34m.\u001b[0m\u001b[0minverse_transform\u001b[0m\u001b[0;34m(\u001b[0m\u001b[0mfinal\u001b[0m\u001b[0;34m)\u001b[0m\u001b[0;34m\u001b[0m\u001b[0;34m\u001b[0m\u001b[0m\n\u001b[0m\u001b[1;32m     33\u001b[0m   \u001b[0mint2\u001b[0m \u001b[0;34m=\u001b[0m \u001b[0mscaler\u001b[0m\u001b[0;34m.\u001b[0m\u001b[0minverse_transform\u001b[0m\u001b[0;34m(\u001b[0m\u001b[0mfinal2\u001b[0m\u001b[0;34m)\u001b[0m\u001b[0;34m\u001b[0m\u001b[0;34m\u001b[0m\u001b[0m\n\u001b[1;32m     34\u001b[0m   \u001b[0mMAPE_O1\u001b[0m \u001b[0;34m=\u001b[0m \u001b[0mnp\u001b[0m\u001b[0;34m.\u001b[0m\u001b[0mmean\u001b[0m\u001b[0;34m(\u001b[0m\u001b[0mnp\u001b[0m\u001b[0;34m.\u001b[0m\u001b[0mabs\u001b[0m\u001b[0;34m(\u001b[0m\u001b[0;34m(\u001b[0m\u001b[0mint2\u001b[0m\u001b[0;34m[\u001b[0m\u001b[0;34m:\u001b[0m\u001b[0;34m,\u001b[0m\u001b[0;36m0\u001b[0m\u001b[0;34m]\u001b[0m \u001b[0;34m-\u001b[0m \u001b[0mint1\u001b[0m\u001b[0;34m[\u001b[0m\u001b[0;34m:\u001b[0m\u001b[0;34m,\u001b[0m\u001b[0;36m0\u001b[0m\u001b[0;34m]\u001b[0m\u001b[0;34m)\u001b[0m \u001b[0;34m/\u001b[0m \u001b[0mint2\u001b[0m\u001b[0;34m[\u001b[0m\u001b[0;34m:\u001b[0m\u001b[0;34m,\u001b[0m\u001b[0;36m0\u001b[0m\u001b[0;34m]\u001b[0m\u001b[0;34m)\u001b[0m\u001b[0;34m)\u001b[0m\u001b[0;34m\u001b[0m\u001b[0;34m\u001b[0m\u001b[0m\n",
            "\u001b[0;31mNameError\u001b[0m: name 'scaler' is not defined"
          ]
        }
      ]
    },
    {
      "cell_type": "code",
      "metadata": {
        "colab": {
          "base_uri": "https://localhost:8080/"
        },
        "id": "lvFpC2rsqPHU",
        "outputId": "0238d6e4-6679-4f6b-b7d2-f4f8d6a35899"
      },
      "source": [
        "#得到测试集结果\n",
        "final = []\n",
        "for step in range(len(test_Y)):  #测试集长度\n",
        "\ttemp_X = copy.deepcopy(X_test[step])\n",
        "\ttemp_X = temp_X.reshape(batch_size, step_size, feature_num)\n",
        "\tpredictions = generator.predict(temp_X)\n",
        "\tfinal.append(predictions[0])\n",
        "print(np.array(final).shape)\n",
        "final = np.concatenate((np.array(final), y_test[:,-23:]), axis=1)\n",
        "final2 = y_test\n",
        "int1 = sc.inverse_transform(final)\n",
        "int2 = sc.inverse_transform(final2)\n",
        "#MAPE_O2 = np.mean(np.abs((final2[:,0] - final[:,0]) / final2[:,0]))\n",
        "MAPE_O2 = np.mean(np.abs((int2[:,0] - int1[:,0]) / int2[:,0]))\n",
        "print('testing result:',MAPE_O2)"
      ],
      "execution_count": 12,
      "outputs": [
        {
          "output_type": "stream",
          "text": [
            "(1439, 1)\n",
            "testing result: 0.030139057\n"
          ],
          "name": "stdout"
        }
      ]
    },
    {
      "cell_type": "code",
      "metadata": {
        "colab": {
          "base_uri": "https://localhost:8080/",
          "height": 295
        },
        "id": "nLvrnpfXqYoC",
        "outputId": "67f6e88c-84d2-4f00-da04-ad9fffc1e3e2"
      },
      "source": [
        "import matplotlib.pyplot as plt\n",
        "plt.plot(int2[:,0], color = 'black', label = 'Stock Open Price')\n",
        "plt.plot(int1[:,0], color = 'green', label = 'PredictedStock Open Price')\n",
        "plt.title('Stock Price Prediction')\n",
        "plt.xlabel('Time')\n",
        "plt.ylabel('Stock Price')\n",
        "plt.legend()\n",
        "plt.show()"
      ],
      "execution_count": 13,
      "outputs": [
        {
          "output_type": "display_data",
          "data": {
            "image/png": "[encoded data removed]",
            "text/plain": [
              "<Figure size 432x288 with 1 Axes>"
            ]
          },
          "metadata": {
            "tags": [],
            "needs_background": "light"
          }
        }
      ]
    },
    {
      "cell_type": "code",
      "metadata": {
        "colab": {
          "base_uri": "https://localhost:8080/"
        },
        "id": "sfw4L4-qqdaM",
        "outputId": "9c677dec-1e53-4483-c8f1-4bb572c5925a"
      },
      "source": [
        "from sklearn.metrics import mean_squared_error\n",
        "mse_before_scale = mean_squared_error(int2[:,0], int1[:,0])\n",
        "print('MSE 1 epoches:',mse_before_scale)"
      ],
      "execution_count": 14,
      "outputs": [
        {
          "output_type": "stream",
          "text": [
            "MSE 1 epoches: 0.0012028076\n"
          ],
          "name": "stdout"
        }
      ]
    },
    {
      "cell_type": "code",
      "metadata": {
        "colab": {
          "base_uri": "https://localhost:8080/"
        },
        "id": "F_HfEoEwqnux",
        "outputId": "8c248563-1796-434f-8130-72860bc1b2c9"
      },
      "source": [
        "!unzip discriminator_30epoch.zip -d /\n",
        "!unzip generator_30epoch.zip -d /\n",
        "!unzip gan_30epoch.zip -d /\n",
        "\n",
        "from keras.models import load_model \n",
        "\n",
        "# generator = load_model('generator_1epoch.h5') #打开模型\n",
        "# discriminator = load_model('discriminator_1epoch.h5') #打开模型\n",
        "\n",
        "generator = keras.models.load_model(\"generator_30epoch\")\n",
        "discriminator = keras.models.load_model(\"discriminator_30epoch\")\n",
        "gan = keras.models.load_model(\"gan_30epoch\")"
      ],
      "execution_count": 15,
      "outputs": [
        {
          "output_type": "stream",
          "text": [
            "Archive:  discriminator_30epoch.zip\n",
            "   creating: /content/discriminator_30epoch/\n",
            "   creating: /content/discriminator_30epoch/assets/\n",
            "  inflating: /content/discriminator_30epoch/saved_model.pb  \n",
            "   creating: /content/discriminator_30epoch/variables/\n",
            "  inflating: /content/discriminator_30epoch/variables/variables.data-00000-of-00001  \n",
            "  inflating: /content/discriminator_30epoch/variables/variables.index  \n",
            "Archive:  generator_30epoch.zip\n",
            "   creating: /content/generator_30epoch/\n",
            "   creating: /content/generator_30epoch/assets/\n",
            "  inflating: /content/generator_30epoch/saved_model.pb  \n",
            "   creating: /content/generator_30epoch/variables/\n",
            "  inflating: /content/generator_30epoch/variables/variables.data-00000-of-00001  \n",
            "  inflating: /content/generator_30epoch/variables/variables.index  \n",
            "Archive:  gan_30epoch.zip\n",
            "   creating: /content/gan_30epoch/\n",
            "   creating: /content/gan_30epoch/assets/\n",
            "  inflating: /content/gan_30epoch/saved_model.pb  \n",
            "   creating: /content/gan_30epoch/variables/\n",
            "  inflating: /content/gan_30epoch/variables/variables.data-00000-of-00001  \n",
            "  inflating: /content/gan_30epoch/variables/variables.index  \n",
            "WARNING:tensorflow:No training configuration found in save file, so the model was *not* compiled. Compile it manually.\n"
          ],
          "name": "stdout"
        }
      ]
    },
    {
      "cell_type": "code",
      "metadata": {
        "colab": {
          "base_uri": "https://localhost:8080/"
        },
        "id": "m9PEiy3eq-uS",
        "outputId": "9841a12a-bee1-4b83-81f7-7277324eaf24"
      },
      "source": [
        "#得到测试集结果\n",
        "final = []\n",
        "for step in range(len(test_Y)):  #测试集长度\n",
        "\ttemp_X = copy.deepcopy(X_test[step])\n",
        "\ttemp_X = temp_X.reshape(batch_size, step_size, feature_num)\n",
        "\tpredictions = generator.predict(temp_X)\n",
        "\tfinal.append(predictions[0])\n",
        "print(np.array(final).shape)\n",
        "final = np.concatenate((np.array(final), y_test[:,-23:]), axis=1)\n",
        "final2 = y_test\n",
        "int1 = sc.inverse_transform(final)\n",
        "int2 = sc.inverse_transform(final2)\n",
        "#MAPE_O2 = np.mean(np.abs((final2[:,0] - final[:,0]) / final2[:,0]))\n",
        "MAPE_O2 = np.mean(np.abs((int2[:,0] - int1[:,0]) / int2[:,0]))\n",
        "print('testing result:',MAPE_O2)"
      ],
      "execution_count": 17,
      "outputs": [
        {
          "output_type": "stream",
          "text": [
            "(1439, 1)\n",
            "testing result: 0.006044507\n"
          ],
          "name": "stdout"
        }
      ]
    },
    {
      "cell_type": "code",
      "metadata": {
        "colab": {
          "base_uri": "https://localhost:8080/",
          "height": 295
        },
        "id": "wqO3buuMrFMN",
        "outputId": "95253d6c-9a24-41b6-fd48-2343fbc05662"
      },
      "source": [
        "import matplotlib.pyplot as plt\n",
        "plt.plot(int2[:,0], color = 'black', label = 'Stock Open Price')\n",
        "plt.plot(int1[:,0], color = 'green', label = 'PredictedStock Open Price')\n",
        "plt.title('Stock Price Prediction')\n",
        "plt.xlabel('Time')\n",
        "plt.ylabel('Stock Price')\n",
        "plt.legend()\n",
        "plt.show()"
      ],
      "execution_count": 18,
      "outputs": [
        {
          "output_type": "display_data",
          "data": {
            "image/png": "[encoded data removed]",
            "text/plain": [
              "<Figure size 432x288 with 1 Axes>"
            ]
          },
          "metadata": {
            "tags": [],
            "needs_background": "light"
          }
        }
      ]
    },
    {
      "cell_type": "code",
      "metadata": {
        "colab": {
          "base_uri": "https://localhost:8080/"
        },
        "id": "ZSE2kT2GrGxT",
        "outputId": "3b661f41-c96c-4671-cfd2-bbd248e5e003"
      },
      "source": [
        "from sklearn.metrics import mean_squared_error\n",
        "mse_before_scale = mean_squared_error(int2[:,0], int1[:,0])\n",
        "print('MSE 30 epoches:',mse_before_scale)"
      ],
      "execution_count": 19,
      "outputs": [
        {
          "output_type": "stream",
          "text": [
            "MSE 30 epoches: 5.213089e-05\n"
          ],
          "name": "stdout"
        }
      ]
    }
  ]
}